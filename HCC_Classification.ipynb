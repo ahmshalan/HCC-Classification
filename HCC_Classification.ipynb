{
 "cells": [
  {
   "cell_type": "markdown",
   "metadata": {
    "id": "u-bAgbOPT5bZ"
   },
   "source": [
    "## Importing libraries"
   ]
  },
  {
   "cell_type": "code",
   "execution_count": null,
   "metadata": {
    "id": "x62KU11Sxqc2"
   },
   "outputs": [],
   "source": [
    "import numpy as np\n",
    "import pandas as pd\n",
    "from sklearn.model_selection import train_test_split\n",
    "from sklearn.metrics import plot_roc_curve\n",
    "from sklearn.pipeline import Pipeline\n",
    "from sklearn.impute import KNNImputer\n",
    "from sklearn.preprocessing import StandardScaler\n",
    "from sklearn.ensemble import RandomForestClassifier\n",
    "from sklearn.ensemble import VotingClassifier\n",
    "from sklearn.svm import SVC\n",
    "from sklearn.decomposition import PCA\n",
    "import matplotlib.pyplot as plt"
   ]
  },
  {
   "cell_type": "code",
   "execution_count": null,
   "metadata": {
    "colab": {
     "base_uri": "https://localhost:8080/"
    },
    "id": "DfFTA_3PaiKq",
    "outputId": "a911c034-7d2e-48b3-8046-0a84aed595e7"
   },
   "outputs": [
    {
     "name": "stdout",
     "output_type": "stream",
     "text": [
      "Mounted at /content/drive\n"
     ]
    }
   ],
   "source": [
    "from google.colab import drive\n",
    "drive.mount('/content/drive')"
   ]
  },
  {
   "cell_type": "code",
   "execution_count": null,
   "metadata": {
    "id": "cvqn2hNqalmP"
   },
   "outputs": [],
   "source": [
    "# reading the data file \n",
    "hcc_df = pd.read_csv('/content/drive/My Drive/hcc-data.txt',sep = \",\",header = None)\n",
    "hcc_df.columns = ['Gender',\n",
    "'Symptoms', \n",
    "'Alcohol' ,\n",
    "'Hepatitis B Surface Antigen', \n",
    "'Hepatitis B e Antigen',\n",
    "'Hepatitis B Core Antibody',\n",
    "'Hepatitis C Virus Antibody',\n",
    "'Cirrhosis' ,\n",
    "'Endemic Countries', \n",
    "'Smoking',\n",
    "'Diabetes',\n",
    "'Obesity' ,\n",
    "'Hemochromatosis',\n",
    "'Arterial Hypertension',\n",
    "'Chronic Renal Insufficiency',\n",
    "'Human Immunodeficiency Virus',\n",
    "'Nonalcoholic Steatohepatitis',\n",
    "'Esophageal Varices',\n",
    "'Splenomegaly',\n",
    "'Portal Hypertension', \n",
    "'Portal Vein Thrombosis',\n",
    "'Liver Metastasis' ,\n",
    "'Radiological Hallmark', \n",
    "'Age at diagnosis integer',\n",
    "'Grams of Alcohol per day' ,\n",
    "'Packs of cigarets per year', \n",
    "'Performance Status',\n",
    "'Encefalopathy degree',\n",
    "'Ascites degree',\n",
    "'International Normalised Ratio', \n",
    "'Alpha-Fetoprotein' ,\n",
    "'Haemoglobin',\n",
    "'Mean Corpuscular Volume', \n",
    "'Leukocytes' ,\n",
    "'Platelets',\n",
    "'Albumin' ,\n",
    "'Total Bilirubin',\n",
    "'Alanine transaminase', \n",
    "'Aspartate transaminase',\n",
    "'Gamma glutamyl transferase',\n",
    "'Alkaline phosphatase',\n",
    "'Total Proteins',\n",
    "'Creatinine',\n",
    "'Number of Nodules integer',\n",
    "'Major dimension of nodule',\n",
    "'Direct Bilirubin',\n",
    "'Iron' ,\n",
    "'Oxygen Saturation',\n",
    "'Ferritin',\n",
    "'Class']"
   ]
  },
  {
   "cell_type": "code",
   "execution_count": null,
   "metadata": {
    "colab": {
     "base_uri": "https://localhost:8080/",
     "height": 462
    },
    "id": "x1v4M9WdGbNy",
    "outputId": "6888ed5f-1166-4449-fb1a-e441ecf32899"
   },
   "outputs": [
    {
     "data": {
      "text/html": [
       "<div>\n",
       "<style scoped>\n",
       "    .dataframe tbody tr th:only-of-type {\n",
       "        vertical-align: middle;\n",
       "    }\n",
       "\n",
       "    .dataframe tbody tr th {\n",
       "        vertical-align: top;\n",
       "    }\n",
       "\n",
       "    .dataframe thead th {\n",
       "        text-align: right;\n",
       "    }\n",
       "</style>\n",
       "<table border=\"1\" class=\"dataframe\">\n",
       "  <thead>\n",
       "    <tr style=\"text-align: right;\">\n",
       "      <th></th>\n",
       "      <th>Gender</th>\n",
       "      <th>Symptoms</th>\n",
       "      <th>Alcohol</th>\n",
       "      <th>Hepatitis B Surface Antigen</th>\n",
       "      <th>Hepatitis B e Antigen</th>\n",
       "      <th>Hepatitis B Core Antibody</th>\n",
       "      <th>Hepatitis C Virus Antibody</th>\n",
       "      <th>Cirrhosis</th>\n",
       "      <th>Endemic Countries</th>\n",
       "      <th>Smoking</th>\n",
       "      <th>Diabetes</th>\n",
       "      <th>Obesity</th>\n",
       "      <th>Hemochromatosis</th>\n",
       "      <th>Arterial Hypertension</th>\n",
       "      <th>Chronic Renal Insufficiency</th>\n",
       "      <th>Human Immunodeficiency Virus</th>\n",
       "      <th>Nonalcoholic Steatohepatitis</th>\n",
       "      <th>Esophageal Varices</th>\n",
       "      <th>Splenomegaly</th>\n",
       "      <th>Portal Hypertension</th>\n",
       "      <th>Portal Vein Thrombosis</th>\n",
       "      <th>Liver Metastasis</th>\n",
       "      <th>Radiological Hallmark</th>\n",
       "      <th>Age at diagnosis integer</th>\n",
       "      <th>Grams of Alcohol per day</th>\n",
       "      <th>Packs of cigarets per year</th>\n",
       "      <th>Performance Status</th>\n",
       "      <th>Encefalopathy degree</th>\n",
       "      <th>Ascites degree</th>\n",
       "      <th>International Normalised Ratio</th>\n",
       "      <th>Alpha-Fetoprotein</th>\n",
       "      <th>Haemoglobin</th>\n",
       "      <th>Mean Corpuscular Volume</th>\n",
       "      <th>Leukocytes</th>\n",
       "      <th>Platelets</th>\n",
       "      <th>Albumin</th>\n",
       "      <th>Total Bilirubin</th>\n",
       "      <th>Alanine transaminase</th>\n",
       "      <th>Aspartate transaminase</th>\n",
       "      <th>Gamma glutamyl transferase</th>\n",
       "      <th>Alkaline phosphatase</th>\n",
       "      <th>Total Proteins</th>\n",
       "      <th>Creatinine</th>\n",
       "      <th>Number of Nodules integer</th>\n",
       "      <th>Major dimension of nodule</th>\n",
       "      <th>Direct Bilirubin</th>\n",
       "      <th>Iron</th>\n",
       "      <th>Oxygen Saturation</th>\n",
       "      <th>Ferritin</th>\n",
       "      <th>Class</th>\n",
       "    </tr>\n",
       "  </thead>\n",
       "  <tbody>\n",
       "    <tr>\n",
       "      <th>0</th>\n",
       "      <td>1</td>\n",
       "      <td>0</td>\n",
       "      <td>1</td>\n",
       "      <td>0</td>\n",
       "      <td>0</td>\n",
       "      <td>0</td>\n",
       "      <td>0</td>\n",
       "      <td>1</td>\n",
       "      <td>0</td>\n",
       "      <td>1</td>\n",
       "      <td>1</td>\n",
       "      <td>?</td>\n",
       "      <td>1</td>\n",
       "      <td>0</td>\n",
       "      <td>0</td>\n",
       "      <td>0</td>\n",
       "      <td>0</td>\n",
       "      <td>1</td>\n",
       "      <td>0</td>\n",
       "      <td>0</td>\n",
       "      <td>0</td>\n",
       "      <td>0</td>\n",
       "      <td>1</td>\n",
       "      <td>67</td>\n",
       "      <td>137</td>\n",
       "      <td>15</td>\n",
       "      <td>0</td>\n",
       "      <td>1</td>\n",
       "      <td>1</td>\n",
       "      <td>1.53</td>\n",
       "      <td>95</td>\n",
       "      <td>13.7</td>\n",
       "      <td>106.6</td>\n",
       "      <td>4.9</td>\n",
       "      <td>99</td>\n",
       "      <td>3.4</td>\n",
       "      <td>2.1</td>\n",
       "      <td>34</td>\n",
       "      <td>41</td>\n",
       "      <td>183</td>\n",
       "      <td>150</td>\n",
       "      <td>7.1</td>\n",
       "      <td>0.7</td>\n",
       "      <td>1</td>\n",
       "      <td>3.5</td>\n",
       "      <td>0.5</td>\n",
       "      <td>?</td>\n",
       "      <td>?</td>\n",
       "      <td>?</td>\n",
       "      <td>1</td>\n",
       "    </tr>\n",
       "    <tr>\n",
       "      <th>1</th>\n",
       "      <td>0</td>\n",
       "      <td>?</td>\n",
       "      <td>0</td>\n",
       "      <td>0</td>\n",
       "      <td>0</td>\n",
       "      <td>0</td>\n",
       "      <td>1</td>\n",
       "      <td>1</td>\n",
       "      <td>?</td>\n",
       "      <td>?</td>\n",
       "      <td>1</td>\n",
       "      <td>0</td>\n",
       "      <td>0</td>\n",
       "      <td>1</td>\n",
       "      <td>0</td>\n",
       "      <td>0</td>\n",
       "      <td>0</td>\n",
       "      <td>1</td>\n",
       "      <td>0</td>\n",
       "      <td>0</td>\n",
       "      <td>0</td>\n",
       "      <td>0</td>\n",
       "      <td>1</td>\n",
       "      <td>62</td>\n",
       "      <td>0</td>\n",
       "      <td>?</td>\n",
       "      <td>0</td>\n",
       "      <td>1</td>\n",
       "      <td>1</td>\n",
       "      <td>?</td>\n",
       "      <td>?</td>\n",
       "      <td>?</td>\n",
       "      <td>?</td>\n",
       "      <td>?</td>\n",
       "      <td>?</td>\n",
       "      <td>?</td>\n",
       "      <td>?</td>\n",
       "      <td>?</td>\n",
       "      <td>?</td>\n",
       "      <td>?</td>\n",
       "      <td>?</td>\n",
       "      <td>?</td>\n",
       "      <td>?</td>\n",
       "      <td>1</td>\n",
       "      <td>1.8</td>\n",
       "      <td>?</td>\n",
       "      <td>?</td>\n",
       "      <td>?</td>\n",
       "      <td>?</td>\n",
       "      <td>1</td>\n",
       "    </tr>\n",
       "    <tr>\n",
       "      <th>2</th>\n",
       "      <td>1</td>\n",
       "      <td>0</td>\n",
       "      <td>1</td>\n",
       "      <td>1</td>\n",
       "      <td>0</td>\n",
       "      <td>1</td>\n",
       "      <td>0</td>\n",
       "      <td>1</td>\n",
       "      <td>0</td>\n",
       "      <td>1</td>\n",
       "      <td>0</td>\n",
       "      <td>0</td>\n",
       "      <td>0</td>\n",
       "      <td>1</td>\n",
       "      <td>1</td>\n",
       "      <td>0</td>\n",
       "      <td>0</td>\n",
       "      <td>0</td>\n",
       "      <td>0</td>\n",
       "      <td>1</td>\n",
       "      <td>0</td>\n",
       "      <td>1</td>\n",
       "      <td>1</td>\n",
       "      <td>78</td>\n",
       "      <td>50</td>\n",
       "      <td>50</td>\n",
       "      <td>2</td>\n",
       "      <td>1</td>\n",
       "      <td>2</td>\n",
       "      <td>0.96</td>\n",
       "      <td>5.8</td>\n",
       "      <td>8.9</td>\n",
       "      <td>79.8</td>\n",
       "      <td>8.4</td>\n",
       "      <td>472</td>\n",
       "      <td>3.3</td>\n",
       "      <td>0.4</td>\n",
       "      <td>58</td>\n",
       "      <td>68</td>\n",
       "      <td>202</td>\n",
       "      <td>109</td>\n",
       "      <td>7</td>\n",
       "      <td>2.1</td>\n",
       "      <td>5</td>\n",
       "      <td>13</td>\n",
       "      <td>0.1</td>\n",
       "      <td>28</td>\n",
       "      <td>6</td>\n",
       "      <td>16</td>\n",
       "      <td>1</td>\n",
       "    </tr>\n",
       "    <tr>\n",
       "      <th>3</th>\n",
       "      <td>1</td>\n",
       "      <td>1</td>\n",
       "      <td>1</td>\n",
       "      <td>0</td>\n",
       "      <td>0</td>\n",
       "      <td>0</td>\n",
       "      <td>0</td>\n",
       "      <td>1</td>\n",
       "      <td>0</td>\n",
       "      <td>1</td>\n",
       "      <td>1</td>\n",
       "      <td>0</td>\n",
       "      <td>0</td>\n",
       "      <td>1</td>\n",
       "      <td>0</td>\n",
       "      <td>0</td>\n",
       "      <td>0</td>\n",
       "      <td>0</td>\n",
       "      <td>0</td>\n",
       "      <td>0</td>\n",
       "      <td>0</td>\n",
       "      <td>1</td>\n",
       "      <td>1</td>\n",
       "      <td>77</td>\n",
       "      <td>40</td>\n",
       "      <td>30</td>\n",
       "      <td>0</td>\n",
       "      <td>1</td>\n",
       "      <td>1</td>\n",
       "      <td>0.95</td>\n",
       "      <td>2440</td>\n",
       "      <td>13.4</td>\n",
       "      <td>97.1</td>\n",
       "      <td>9</td>\n",
       "      <td>279</td>\n",
       "      <td>3.7</td>\n",
       "      <td>0.4</td>\n",
       "      <td>16</td>\n",
       "      <td>64</td>\n",
       "      <td>94</td>\n",
       "      <td>174</td>\n",
       "      <td>8.1</td>\n",
       "      <td>1.11</td>\n",
       "      <td>2</td>\n",
       "      <td>15.7</td>\n",
       "      <td>0.2</td>\n",
       "      <td>?</td>\n",
       "      <td>?</td>\n",
       "      <td>?</td>\n",
       "      <td>0</td>\n",
       "    </tr>\n",
       "    <tr>\n",
       "      <th>4</th>\n",
       "      <td>1</td>\n",
       "      <td>1</td>\n",
       "      <td>1</td>\n",
       "      <td>1</td>\n",
       "      <td>0</td>\n",
       "      <td>1</td>\n",
       "      <td>0</td>\n",
       "      <td>1</td>\n",
       "      <td>0</td>\n",
       "      <td>1</td>\n",
       "      <td>0</td>\n",
       "      <td>0</td>\n",
       "      <td>0</td>\n",
       "      <td>1</td>\n",
       "      <td>1</td>\n",
       "      <td>0</td>\n",
       "      <td>0</td>\n",
       "      <td>0</td>\n",
       "      <td>0</td>\n",
       "      <td>0</td>\n",
       "      <td>0</td>\n",
       "      <td>0</td>\n",
       "      <td>1</td>\n",
       "      <td>76</td>\n",
       "      <td>100</td>\n",
       "      <td>30</td>\n",
       "      <td>0</td>\n",
       "      <td>1</td>\n",
       "      <td>1</td>\n",
       "      <td>0.94</td>\n",
       "      <td>49</td>\n",
       "      <td>14.3</td>\n",
       "      <td>95.1</td>\n",
       "      <td>6.4</td>\n",
       "      <td>199</td>\n",
       "      <td>4.1</td>\n",
       "      <td>0.7</td>\n",
       "      <td>147</td>\n",
       "      <td>306</td>\n",
       "      <td>173</td>\n",
       "      <td>109</td>\n",
       "      <td>6.9</td>\n",
       "      <td>1.8</td>\n",
       "      <td>1</td>\n",
       "      <td>9</td>\n",
       "      <td>?</td>\n",
       "      <td>59</td>\n",
       "      <td>15</td>\n",
       "      <td>22</td>\n",
       "      <td>1</td>\n",
       "    </tr>\n",
       "    <tr>\n",
       "      <th>...</th>\n",
       "      <td>...</td>\n",
       "      <td>...</td>\n",
       "      <td>...</td>\n",
       "      <td>...</td>\n",
       "      <td>...</td>\n",
       "      <td>...</td>\n",
       "      <td>...</td>\n",
       "      <td>...</td>\n",
       "      <td>...</td>\n",
       "      <td>...</td>\n",
       "      <td>...</td>\n",
       "      <td>...</td>\n",
       "      <td>...</td>\n",
       "      <td>...</td>\n",
       "      <td>...</td>\n",
       "      <td>...</td>\n",
       "      <td>...</td>\n",
       "      <td>...</td>\n",
       "      <td>...</td>\n",
       "      <td>...</td>\n",
       "      <td>...</td>\n",
       "      <td>...</td>\n",
       "      <td>...</td>\n",
       "      <td>...</td>\n",
       "      <td>...</td>\n",
       "      <td>...</td>\n",
       "      <td>...</td>\n",
       "      <td>...</td>\n",
       "      <td>...</td>\n",
       "      <td>...</td>\n",
       "      <td>...</td>\n",
       "      <td>...</td>\n",
       "      <td>...</td>\n",
       "      <td>...</td>\n",
       "      <td>...</td>\n",
       "      <td>...</td>\n",
       "      <td>...</td>\n",
       "      <td>...</td>\n",
       "      <td>...</td>\n",
       "      <td>...</td>\n",
       "      <td>...</td>\n",
       "      <td>...</td>\n",
       "      <td>...</td>\n",
       "      <td>...</td>\n",
       "      <td>...</td>\n",
       "      <td>...</td>\n",
       "      <td>...</td>\n",
       "      <td>...</td>\n",
       "      <td>...</td>\n",
       "      <td>...</td>\n",
       "    </tr>\n",
       "    <tr>\n",
       "      <th>160</th>\n",
       "      <td>0</td>\n",
       "      <td>0</td>\n",
       "      <td>1</td>\n",
       "      <td>?</td>\n",
       "      <td>?</td>\n",
       "      <td>?</td>\n",
       "      <td>1</td>\n",
       "      <td>1</td>\n",
       "      <td>0</td>\n",
       "      <td>1</td>\n",
       "      <td>0</td>\n",
       "      <td>0</td>\n",
       "      <td>0</td>\n",
       "      <td>0</td>\n",
       "      <td>0</td>\n",
       "      <td>1</td>\n",
       "      <td>0</td>\n",
       "      <td>0</td>\n",
       "      <td>0</td>\n",
       "      <td>0</td>\n",
       "      <td>0</td>\n",
       "      <td>0</td>\n",
       "      <td>0</td>\n",
       "      <td>40</td>\n",
       "      <td>?</td>\n",
       "      <td>?</td>\n",
       "      <td>0</td>\n",
       "      <td>1</td>\n",
       "      <td>1</td>\n",
       "      <td>0.84</td>\n",
       "      <td>?</td>\n",
       "      <td>15.4</td>\n",
       "      <td>109.2</td>\n",
       "      <td>9.3</td>\n",
       "      <td>184000</td>\n",
       "      <td>4.6</td>\n",
       "      <td>0.5</td>\n",
       "      <td>35</td>\n",
       "      <td>40</td>\n",
       "      <td>449</td>\n",
       "      <td>109</td>\n",
       "      <td>7.6</td>\n",
       "      <td>0.7</td>\n",
       "      <td>5</td>\n",
       "      <td>3</td>\n",
       "      <td>?</td>\n",
       "      <td>?</td>\n",
       "      <td>?</td>\n",
       "      <td>?</td>\n",
       "      <td>1</td>\n",
       "    </tr>\n",
       "    <tr>\n",
       "      <th>161</th>\n",
       "      <td>0</td>\n",
       "      <td>1</td>\n",
       "      <td>0</td>\n",
       "      <td>?</td>\n",
       "      <td>?</td>\n",
       "      <td>?</td>\n",
       "      <td>?</td>\n",
       "      <td>1</td>\n",
       "      <td>0</td>\n",
       "      <td>0</td>\n",
       "      <td>0</td>\n",
       "      <td>0</td>\n",
       "      <td>0</td>\n",
       "      <td>1</td>\n",
       "      <td>0</td>\n",
       "      <td>?</td>\n",
       "      <td>0</td>\n",
       "      <td>1</td>\n",
       "      <td>1</td>\n",
       "      <td>1</td>\n",
       "      <td>0</td>\n",
       "      <td>0</td>\n",
       "      <td>1</td>\n",
       "      <td>68</td>\n",
       "      <td>0</td>\n",
       "      <td>0</td>\n",
       "      <td>2</td>\n",
       "      <td>1</td>\n",
       "      <td>1</td>\n",
       "      <td>1.33</td>\n",
       "      <td>4887</td>\n",
       "      <td>12.1</td>\n",
       "      <td>88.9</td>\n",
       "      <td>2.5</td>\n",
       "      <td>141</td>\n",
       "      <td>3</td>\n",
       "      <td>3.6</td>\n",
       "      <td>50</td>\n",
       "      <td>91</td>\n",
       "      <td>147</td>\n",
       "      <td>280</td>\n",
       "      <td>6.7</td>\n",
       "      <td>0.7</td>\n",
       "      <td>1</td>\n",
       "      <td>2.2</td>\n",
       "      <td>2.3</td>\n",
       "      <td>?</td>\n",
       "      <td>?</td>\n",
       "      <td>?</td>\n",
       "      <td>0</td>\n",
       "    </tr>\n",
       "    <tr>\n",
       "      <th>162</th>\n",
       "      <td>1</td>\n",
       "      <td>0</td>\n",
       "      <td>1</td>\n",
       "      <td>0</td>\n",
       "      <td>0</td>\n",
       "      <td>0</td>\n",
       "      <td>0</td>\n",
       "      <td>1</td>\n",
       "      <td>0</td>\n",
       "      <td>1</td>\n",
       "      <td>1</td>\n",
       "      <td>1</td>\n",
       "      <td>0</td>\n",
       "      <td>1</td>\n",
       "      <td>1</td>\n",
       "      <td>0</td>\n",
       "      <td>?</td>\n",
       "      <td>?</td>\n",
       "      <td>?</td>\n",
       "      <td>?</td>\n",
       "      <td>0</td>\n",
       "      <td>0</td>\n",
       "      <td>1</td>\n",
       "      <td>65</td>\n",
       "      <td>?</td>\n",
       "      <td>48</td>\n",
       "      <td>0</td>\n",
       "      <td>1</td>\n",
       "      <td>1</td>\n",
       "      <td>1.13</td>\n",
       "      <td>75</td>\n",
       "      <td>13.3</td>\n",
       "      <td>90</td>\n",
       "      <td>8</td>\n",
       "      <td>385000</td>\n",
       "      <td>4.3</td>\n",
       "      <td>0.6</td>\n",
       "      <td>53</td>\n",
       "      <td>52</td>\n",
       "      <td>164</td>\n",
       "      <td>181</td>\n",
       "      <td>7.5</td>\n",
       "      <td>1.46</td>\n",
       "      <td>5</td>\n",
       "      <td>18.6</td>\n",
       "      <td>?</td>\n",
       "      <td>?</td>\n",
       "      <td>?</td>\n",
       "      <td>?</td>\n",
       "      <td>1</td>\n",
       "    </tr>\n",
       "    <tr>\n",
       "      <th>163</th>\n",
       "      <td>1</td>\n",
       "      <td>0</td>\n",
       "      <td>1</td>\n",
       "      <td>1</td>\n",
       "      <td>0</td>\n",
       "      <td>1</td>\n",
       "      <td>1</td>\n",
       "      <td>1</td>\n",
       "      <td>1</td>\n",
       "      <td>1</td>\n",
       "      <td>0</td>\n",
       "      <td>0</td>\n",
       "      <td>0</td>\n",
       "      <td>0</td>\n",
       "      <td>0</td>\n",
       "      <td>1</td>\n",
       "      <td>0</td>\n",
       "      <td>?</td>\n",
       "      <td>?</td>\n",
       "      <td>?</td>\n",
       "      <td>1</td>\n",
       "      <td>1</td>\n",
       "      <td>1</td>\n",
       "      <td>44</td>\n",
       "      <td>?</td>\n",
       "      <td>?</td>\n",
       "      <td>2</td>\n",
       "      <td>1</td>\n",
       "      <td>1</td>\n",
       "      <td>2.14</td>\n",
       "      <td>94964</td>\n",
       "      <td>15.6</td>\n",
       "      <td>117.3</td>\n",
       "      <td>5200</td>\n",
       "      <td>118000</td>\n",
       "      <td>4.8</td>\n",
       "      <td>1.1</td>\n",
       "      <td>50</td>\n",
       "      <td>60</td>\n",
       "      <td>320</td>\n",
       "      <td>170</td>\n",
       "      <td>8.4</td>\n",
       "      <td>0.74</td>\n",
       "      <td>5</td>\n",
       "      <td>18</td>\n",
       "      <td>?</td>\n",
       "      <td>?</td>\n",
       "      <td>?</td>\n",
       "      <td>?</td>\n",
       "      <td>0</td>\n",
       "    </tr>\n",
       "    <tr>\n",
       "      <th>164</th>\n",
       "      <td>1</td>\n",
       "      <td>1</td>\n",
       "      <td>1</td>\n",
       "      <td>0</td>\n",
       "      <td>0</td>\n",
       "      <td>0</td>\n",
       "      <td>1</td>\n",
       "      <td>1</td>\n",
       "      <td>0</td>\n",
       "      <td>1</td>\n",
       "      <td>0</td>\n",
       "      <td>0</td>\n",
       "      <td>0</td>\n",
       "      <td>0</td>\n",
       "      <td>0</td>\n",
       "      <td>0</td>\n",
       "      <td>0</td>\n",
       "      <td>?</td>\n",
       "      <td>1</td>\n",
       "      <td>1</td>\n",
       "      <td>0</td>\n",
       "      <td>1</td>\n",
       "      <td>1</td>\n",
       "      <td>52</td>\n",
       "      <td>50</td>\n",
       "      <td>?</td>\n",
       "      <td>0</td>\n",
       "      <td>1</td>\n",
       "      <td>1</td>\n",
       "      <td>1.79</td>\n",
       "      <td>44340</td>\n",
       "      <td>12.7</td>\n",
       "      <td>95.8</td>\n",
       "      <td>14.4</td>\n",
       "      <td>412000</td>\n",
       "      <td>2.2</td>\n",
       "      <td>28.5</td>\n",
       "      <td>78</td>\n",
       "      <td>127</td>\n",
       "      <td>444</td>\n",
       "      <td>462</td>\n",
       "      <td>6.6</td>\n",
       "      <td>3.95</td>\n",
       "      <td>5</td>\n",
       "      <td>8.5</td>\n",
       "      <td>19.8</td>\n",
       "      <td>?</td>\n",
       "      <td>?</td>\n",
       "      <td>?</td>\n",
       "      <td>0</td>\n",
       "    </tr>\n",
       "  </tbody>\n",
       "</table>\n",
       "<p>165 rows × 50 columns</p>\n",
       "</div>"
      ],
      "text/plain": [
       "     Gender Symptoms  Alcohol  ... Oxygen Saturation Ferritin Class\n",
       "0         1        0        1  ...                 ?        ?     1\n",
       "1         0        ?        0  ...                 ?        ?     1\n",
       "2         1        0        1  ...                 6       16     1\n",
       "3         1        1        1  ...                 ?        ?     0\n",
       "4         1        1        1  ...                15       22     1\n",
       "..      ...      ...      ...  ...               ...      ...   ...\n",
       "160       0        0        1  ...                 ?        ?     1\n",
       "161       0        1        0  ...                 ?        ?     0\n",
       "162       1        0        1  ...                 ?        ?     1\n",
       "163       1        0        1  ...                 ?        ?     0\n",
       "164       1        1        1  ...                 ?        ?     0\n",
       "\n",
       "[165 rows x 50 columns]"
      ]
     },
     "execution_count": 68,
     "metadata": {
      "tags": []
     },
     "output_type": "execute_result"
    }
   ],
   "source": [
    "hcc_df"
   ]
  },
  {
   "cell_type": "code",
   "execution_count": null,
   "metadata": {
    "id": "P_DIaNwZIl-a"
   },
   "outputs": [],
   "source": [
    "# getting rid of all ? in data\n",
    "hcc_df.replace('?',np.nan,inplace=True)"
   ]
  },
  {
   "cell_type": "code",
   "execution_count": null,
   "metadata": {
    "colab": {
     "base_uri": "https://localhost:8080/"
    },
    "id": "YR92yNlKI1vO",
    "outputId": "628281fe-dd60-4d83-c754-bbee0ac8d5f0"
   },
   "outputs": [
    {
     "name": "stdout",
     "output_type": "stream",
     "text": [
      "<class 'pandas.core.frame.DataFrame'>\n",
      "RangeIndex: 165 entries, 0 to 164\n",
      "Data columns (total 50 columns):\n",
      " #   Column                          Non-Null Count  Dtype \n",
      "---  ------                          --------------  ----- \n",
      " 0   Gender                          165 non-null    int64 \n",
      " 1   Symptoms                        147 non-null    object\n",
      " 2   Alcohol                         165 non-null    int64 \n",
      " 3   Hepatitis B Surface Antigen     148 non-null    object\n",
      " 4   Hepatitis B e Antigen           126 non-null    object\n",
      " 5   Hepatitis B Core Antibody       141 non-null    object\n",
      " 6   Hepatitis C Virus Antibody      156 non-null    object\n",
      " 7   Cirrhosis                       165 non-null    int64 \n",
      " 8   Endemic Countries               126 non-null    object\n",
      " 9   Smoking                         124 non-null    object\n",
      " 10  Diabetes                        162 non-null    object\n",
      " 11  Obesity                         155 non-null    object\n",
      " 12  Hemochromatosis                 142 non-null    object\n",
      " 13  Arterial Hypertension           162 non-null    object\n",
      " 14  Chronic Renal Insufficiency     163 non-null    object\n",
      " 15  Human Immunodeficiency Virus    151 non-null    object\n",
      " 16  Nonalcoholic Steatohepatitis    143 non-null    object\n",
      " 17  Esophageal Varices              113 non-null    object\n",
      " 18  Splenomegaly                    150 non-null    object\n",
      " 19  Portal Hypertension             154 non-null    object\n",
      " 20  Portal Vein Thrombosis          162 non-null    object\n",
      " 21  Liver Metastasis                161 non-null    object\n",
      " 22  Radiological Hallmark           163 non-null    object\n",
      " 23  Age at diagnosis integer        165 non-null    int64 \n",
      " 24  Grams of Alcohol per day        117 non-null    object\n",
      " 25  Packs of cigarets per year      112 non-null    object\n",
      " 26  Performance Status              165 non-null    int64 \n",
      " 27  Encefalopathy degree            164 non-null    object\n",
      " 28  Ascites degree                  163 non-null    object\n",
      " 29  International Normalised Ratio  161 non-null    object\n",
      " 30  Alpha-Fetoprotein               157 non-null    object\n",
      " 31  Haemoglobin                     162 non-null    object\n",
      " 32  Mean Corpuscular Volume         162 non-null    object\n",
      " 33  Leukocytes                      162 non-null    object\n",
      " 34  Platelets                       162 non-null    object\n",
      " 35  Albumin                         159 non-null    object\n",
      " 36  Total Bilirubin                 160 non-null    object\n",
      " 37  Alanine transaminase            161 non-null    object\n",
      " 38  Aspartate transaminase          162 non-null    object\n",
      " 39  Gamma glutamyl transferase      162 non-null    object\n",
      " 40  Alkaline phosphatase            162 non-null    object\n",
      " 41  Total Proteins                  154 non-null    object\n",
      " 42  Creatinine                      158 non-null    object\n",
      " 43  Number of Nodules integer       163 non-null    object\n",
      " 44  Major dimension of nodule       145 non-null    object\n",
      " 45  Direct Bilirubin                121 non-null    object\n",
      " 46  Iron                            86 non-null     object\n",
      " 47  Oxygen Saturation               85 non-null     object\n",
      " 48  Ferritin                        85 non-null     object\n",
      " 49  Class                           165 non-null    int64 \n",
      "dtypes: int64(6), object(44)\n",
      "memory usage: 64.6+ KB\n"
     ]
    }
   ],
   "source": [
    "# get information about dataset\n",
    "hcc_df.info()"
   ]
  },
  {
   "cell_type": "markdown",
   "metadata": {
    "id": "qJ-DJd4MUTc3"
   },
   "source": [
    "AS, we see here there are alot of nulls in the data and we could not remove them so we use KNNImputer to predict the unkown data "
   ]
  },
  {
   "cell_type": "code",
   "execution_count": null,
   "metadata": {
    "id": "eYNH43EkJ0el"
   },
   "outputs": [],
   "source": [
    "imputer = KNNImputer()\n",
    "# fit on the dataset\n",
    "imputer.fit(hcc_df.iloc[:,:-1].values)\n",
    "# transform the dataset\n",
    "hcc_df.iloc[:,:-1] = imputer.transform(hcc_df.iloc[:,:-1].values)"
   ]
  },
  {
   "cell_type": "code",
   "execution_count": null,
   "metadata": {
    "colab": {
     "base_uri": "https://localhost:8080/"
    },
    "id": "ojbcwx7rLyvO",
    "outputId": "41278e65-2934-456d-a6ea-b9ce04b13824"
   },
   "outputs": [
    {
     "name": "stdout",
     "output_type": "stream",
     "text": [
      "<class 'pandas.core.frame.DataFrame'>\n",
      "RangeIndex: 165 entries, 0 to 164\n",
      "Data columns (total 50 columns):\n",
      " #   Column                          Non-Null Count  Dtype  \n",
      "---  ------                          --------------  -----  \n",
      " 0   Gender                          165 non-null    int64  \n",
      " 1   Symptoms                        165 non-null    int64  \n",
      " 2   Alcohol                         165 non-null    int64  \n",
      " 3   Hepatitis B Surface Antigen     165 non-null    int64  \n",
      " 4   Hepatitis B e Antigen           165 non-null    int64  \n",
      " 5   Hepatitis B Core Antibody       165 non-null    int64  \n",
      " 6   Hepatitis C Virus Antibody      165 non-null    int64  \n",
      " 7   Cirrhosis                       165 non-null    int64  \n",
      " 8   Endemic Countries               165 non-null    int64  \n",
      " 9   Smoking                         165 non-null    int64  \n",
      " 10  Diabetes                        165 non-null    int64  \n",
      " 11  Obesity                         165 non-null    int64  \n",
      " 12  Hemochromatosis                 165 non-null    int64  \n",
      " 13  Arterial Hypertension           165 non-null    int64  \n",
      " 14  Chronic Renal Insufficiency     165 non-null    int64  \n",
      " 15  Human Immunodeficiency Virus    165 non-null    int64  \n",
      " 16  Nonalcoholic Steatohepatitis    165 non-null    int64  \n",
      " 17  Esophageal Varices              165 non-null    int64  \n",
      " 18  Splenomegaly                    165 non-null    int64  \n",
      " 19  Portal Hypertension             165 non-null    int64  \n",
      " 20  Portal Vein Thrombosis          165 non-null    int64  \n",
      " 21  Liver Metastasis                165 non-null    int64  \n",
      " 22  Radiological Hallmark           165 non-null    int64  \n",
      " 23  Age at diagnosis integer        165 non-null    float64\n",
      " 24  Grams of Alcohol per day        165 non-null    float64\n",
      " 25  Packs of cigarets per year      165 non-null    float64\n",
      " 26  Performance Status              165 non-null    int64  \n",
      " 27  Encefalopathy degree            165 non-null    int64  \n",
      " 28  Ascites degree                  165 non-null    int64  \n",
      " 29  International Normalised Ratio  165 non-null    float64\n",
      " 30  Alpha-Fetoprotein               165 non-null    float64\n",
      " 31  Haemoglobin                     165 non-null    float64\n",
      " 32  Mean Corpuscular Volume         165 non-null    float64\n",
      " 33  Leukocytes                      165 non-null    float64\n",
      " 34  Platelets                       165 non-null    float64\n",
      " 35  Albumin                         165 non-null    float64\n",
      " 36  Total Bilirubin                 165 non-null    float64\n",
      " 37  Alanine transaminase            165 non-null    float64\n",
      " 38  Aspartate transaminase          165 non-null    float64\n",
      " 39  Gamma glutamyl transferase      165 non-null    float64\n",
      " 40  Alkaline phosphatase            165 non-null    float64\n",
      " 41  Total Proteins                  165 non-null    float64\n",
      " 42  Creatinine                      165 non-null    float64\n",
      " 43  Number of Nodules integer       165 non-null    int64  \n",
      " 44  Major dimension of nodule       165 non-null    float64\n",
      " 45  Direct Bilirubin                165 non-null    float64\n",
      " 46  Iron                            165 non-null    float64\n",
      " 47  Oxygen Saturation               165 non-null    float64\n",
      " 48  Ferritin                        165 non-null    float64\n",
      " 49  Class                           165 non-null    int64  \n",
      "dtypes: float64(22), int64(28)\n",
      "memory usage: 64.6 KB\n"
     ]
    }
   ],
   "source": [
    "# rounding the results from knnImputer as it gives the mean and there are nominal features and int features like age\n",
    "hcc_df.iloc[:,:23] = hcc_df.iloc[:,:23].round().astype('int')\n",
    "hcc_df.iloc[:,26:29] = hcc_df.iloc[:,26:29].round().astype('int')\n",
    "hcc_df.iloc[:,43] = hcc_df.iloc[:,43].round().astype('int')\n",
    "hcc_df.info()"
   ]
  },
  {
   "cell_type": "markdown",
   "metadata": {
    "id": "_jCiac6sEYMl"
   },
   "source": [
    "## Helper Functions"
   ]
  },
  {
   "cell_type": "code",
   "execution_count": null,
   "metadata": {
    "id": "FjToZ0dzVpZ8"
   },
   "outputs": [],
   "source": [
    "def print_report( y_actual, y_pred):\n",
    "    from sklearn.metrics import accuracy_score,recall_score,precision_score,f1_score\n",
    "    \n",
    "    accuracy = accuracy_score(y_pred, y_actual)\n",
    "    recall = recall_score(y_pred, y_actual)\n",
    "    precision = precision_score(y_pred,y_actual)\n",
    "    fscore = f1_score(y_pred, y_actual)\n",
    "\n",
    "    print('Accuracy: %.3f'%accuracy)\n",
    "    print('Recall: %.3f'%recall)\n",
    "    print('Precision: %.3f'%precision)\n",
    "    print('F-Score: %.3f'%fscore)\n",
    "    print(' ')\n",
    "        "
   ]
  },
  {
   "cell_type": "code",
   "execution_count": null,
   "metadata": {
    "id": "uZcPSLvlUPyI"
   },
   "outputs": [],
   "source": [
    "def plot_confusion_matrix(y_test,y_pred,labels):\n",
    "    import seaborn as sns\n",
    "    from sklearn import metrics\n",
    "    cm = metrics.confusion_matrix(y_test, y_pred)\n",
    "    cm = pd.DataFrame(cm)\n",
    "    cm = cm.rename(columns=labels, index=labels)\n",
    "    fig = sns.heatmap(cm,annot=True,cmap='Blues', fmt='g');\n",
    "    return fig"
   ]
  },
  {
   "cell_type": "markdown",
   "metadata": {
    "id": "VknUx_rgEcM8"
   },
   "source": [
    "## Training on the dataset without handling imbalance"
   ]
  },
  {
   "cell_type": "code",
   "execution_count": null,
   "metadata": {
    "id": "pKZfTbk0M9Xd"
   },
   "outputs": [],
   "source": [
    "#standardize dataset\n",
    "sc = StandardScaler()\n",
    "X = sc.fit_transform(hcc_df.iloc[:,:-1].values)\n",
    "X_train,X_test,y_train,y_test=train_test_split(X,hcc_df.iloc[:,-1].values,test_size=0.2,random_state=0)"
   ]
  },
  {
   "cell_type": "code",
   "execution_count": null,
   "metadata": {
    "id": "QESzdKTjPym_"
   },
   "outputs": [],
   "source": [
    "# using piplines\n",
    "scm_pipline = Pipeline(steps=[\n",
    "                              ('Sc',StandardScaler()),\n",
    "                              ('Svm',SVC(random_state=0))\n",
    "])\n",
    "rf_pipline = Pipeline(steps=[\n",
    "                             ('Sc',StandardScaler()),\n",
    "                             ('Rf',RandomForestClassifier())\n",
    "                             ])\n",
    "piplines = [scm_pipline,rf_pipline]"
   ]
  },
  {
   "cell_type": "code",
   "execution_count": null,
   "metadata": {
    "id": "5v0NZgN6N0v-"
   },
   "outputs": [],
   "source": [
    "#training all models in piplines \n",
    "for pipe in piplines:\n",
    "  pipe.fit(X_train,y_train)"
   ]
  },
  {
   "cell_type": "code",
   "execution_count": null,
   "metadata": {
    "id": "SbM0OvgzPGL3"
   },
   "outputs": [],
   "source": [
    "# predicting the testing data\n",
    "y_pred = []\n",
    "for i,model in enumerate(piplines):\n",
    "    y_pred.append(model.predict(X_test))"
   ]
  },
  {
   "cell_type": "code",
   "execution_count": null,
   "metadata": {
    "colab": {
     "base_uri": "https://localhost:8080/",
     "height": 349
    },
    "id": "eDiHxJ2XUf4t",
    "outputId": "a114c834-d42d-4309-9922-afd8de17284e"
   },
   "outputs": [
    {
     "name": "stdout",
     "output_type": "stream",
     "text": [
      "Accuracy: 0.667\n",
      "Recall: 0.682\n",
      "Precision: 0.789\n",
      "F-Score: 0.732\n",
      " \n"
     ]
    },
    {
     "data": {
      "image/png": "[encoded data removed]",
      "text/plain": [
       "<Figure size 432x288 with 2 Axes>"
      ]
     },
     "metadata": {
      "needs_background": "light",
      "tags": []
     },
     "output_type": "display_data"
    }
   ],
   "source": [
    "#print rscores and confusion matrix \n",
    "print_report(y_test,y_pred[0])\n",
    "plot_confusion_matrix(y_test,y_pred[0],{0:'died',1:'survives'});"
   ]
  },
  {
   "cell_type": "code",
   "execution_count": null,
   "metadata": {
    "colab": {
     "base_uri": "https://localhost:8080/",
     "height": 278
    },
    "id": "kkVuGtsRE8Fd",
    "outputId": "b9d3bb6b-de74-441e-ccfa-22cf41bdf870"
   },
   "outputs": [
    {
     "data": {
      "image/png": "[encoded data removed]",
      "text/plain": [
       "<Figure size 432x288 with 1 Axes>"
      ]
     },
     "metadata": {
      "needs_background": "light",
      "tags": []
     },
     "output_type": "display_data"
    }
   ],
   "source": [
    "plot_roc_curve(piplines[0],X_test,y_test);"
   ]
  },
  {
   "cell_type": "markdown",
   "metadata": {
    "id": "ufge-iy4VA7A"
   },
   "source": [
    "As, we see here there are 4 false negative values and 7 false postives. As, we see the model could predict the survives more accurate than died. These is beacuse the data of survives is bigger than that of died."
   ]
  },
  {
   "cell_type": "code",
   "execution_count": null,
   "metadata": {
    "colab": {
     "base_uri": "https://localhost:8080/",
     "height": 352
    },
    "id": "xRrOx02SG4Ey",
    "outputId": "02558b93-e005-42cd-d22b-e8d3f0b664d5"
   },
   "outputs": [
    {
     "name": "stdout",
     "output_type": "stream",
     "text": [
      "Accuracy: 0.697\n",
      "Recall: 0.696\n",
      "Precision: 0.842\n",
      "F-Score: 0.762\n",
      " \n"
     ]
    },
    {
     "data": {
      "image/png": "[encoded data removed]",
      "text/plain": [
       "<Figure size 432x288 with 2 Axes>"
      ]
     },
     "metadata": {
      "needs_background": "light",
      "tags": []
     },
     "output_type": "display_data"
    }
   ],
   "source": [
    "print_report(y_test,y_pred[1])\n",
    "plot_confusion_matrix(y_test,y_pred[1],{0:'died',1:'survives'});"
   ]
  },
  {
   "cell_type": "code",
   "execution_count": null,
   "metadata": {
    "colab": {
     "base_uri": "https://localhost:8080/",
     "height": 278
    },
    "id": "KhrBfXhSHANh",
    "outputId": "3031a030-2f55-46c2-cbf9-83d0a9f7da99"
   },
   "outputs": [
    {
     "data": {
      "image/png": "[encoded data removed]",
      "text/plain": [
       "<Figure size 432x288 with 1 Axes>"
      ]
     },
     "metadata": {
      "needs_background": "light",
      "tags": []
     },
     "output_type": "display_data"
    }
   ],
   "source": [
    "plot_roc_curve(piplines[1],X_test,y_test);"
   ]
  },
  {
   "cell_type": "markdown",
   "metadata": {
    "id": "k1g28JG3VrZP"
   },
   "source": [
    "As, we see here there are 3 false negative values and 7 false postives. And also with random forest model the model predict the survives more accurate than died.So, we should handle that imbalance "
   ]
  },
  {
   "cell_type": "markdown",
   "metadata": {
    "id": "io8jmcDUclAJ"
   },
   "source": [
    "## handle imbalance\n"
   ]
  },
  {
   "cell_type": "code",
   "execution_count": null,
   "metadata": {
    "colab": {
     "base_uri": "https://localhost:8080/",
     "height": 265
    },
    "id": "JdlZhi5njAqd",
    "outputId": "7427dcf8-5626-44f1-e398-39acb6b22caa"
   },
   "outputs": [
    {
     "data": {
      "image/png": "[encoded data removed]",
      "text/plain": [
       "<Figure size 432x288 with 1 Axes>"
      ]
     },
     "metadata": {
      "needs_background": "light",
      "tags": []
     },
     "output_type": "display_data"
    }
   ],
   "source": [
    "plt.hist(hcc_df['Class']);"
   ]
  },
  {
   "cell_type": "code",
   "execution_count": null,
   "metadata": {
    "colab": {
     "base_uri": "https://localhost:8080/"
    },
    "id": "mJ0G_9lElNTL",
    "outputId": "16fa4c0b-068b-48b2-97e3-4efff45704c0"
   },
   "outputs": [
    {
     "name": "stdout",
     "output_type": "stream",
     "text": [
      "The percnetage of survived patients:  0.6181818181818182 %\n",
      "The percnetage of died patients:  0.38181818181818183 %\n"
     ]
    }
   ],
   "source": [
    "print('The percnetage of survived patients: ',(hcc_df[hcc_df['Class'] == 1].Class.count()/hcc_df.shape[0]), '%')\n",
    "print('The percnetage of died patients: ',(hcc_df[hcc_df['Class'] == 0].Class.count()/hcc_df.shape[0]), '%')"
   ]
  },
  {
   "cell_type": "markdown",
   "metadata": {
    "id": "I0YVHcxEmMSS"
   },
   "source": [
    "As, we see her the number of died patients is only 0.38% of the dataset, while the survived is 0.62%"
   ]
  },
  {
   "cell_type": "markdown",
   "metadata": {
    "id": "H0-4f5fhqCNl"
   },
   "source": [
    "### Over Sampling"
   ]
  },
  {
   "cell_type": "code",
   "execution_count": null,
   "metadata": {
    "colab": {
     "base_uri": "https://localhost:8080/"
    },
    "id": "VvoY2PyrnDUg",
    "outputId": "60f18025-cfbb-4d66-9694-ca2692ee3144"
   },
   "outputs": [
    {
     "name": "stderr",
     "output_type": "stream",
     "text": [
      "/usr/local/lib/python3.6/dist-packages/sklearn/utils/deprecation.py:87: FutureWarning:\n",
      "\n",
      "Function safe_indexing is deprecated; safe_indexing is deprecated in version 0.22 and will be removed in version 0.24.\n",
      "\n"
     ]
    }
   ],
   "source": [
    "from  imblearn.over_sampling import SMOTE\n",
    "oversample = SMOTE()\n",
    "X_over, y_over = oversample.fit_resample(X, hcc_df.iloc[:,-1])\n",
    "X_train_over,X_test_over,y_train_over,y_test_over =train_test_split(X_over,y_over,test_size=0.2,random_state=0)"
   ]
  },
  {
   "cell_type": "code",
   "execution_count": null,
   "metadata": {
    "colab": {
     "base_uri": "https://localhost:8080/",
     "height": 265
    },
    "id": "i2uaqwXDnk9G",
    "outputId": "3fe4e2f4-38ad-4b9b-a221-f2cec614ce72"
   },
   "outputs": [
    {
     "data": {
      "image/png": "[encoded data removed]",
      "text/plain": [
       "<Figure size 432x288 with 1 Axes>"
      ]
     },
     "metadata": {
      "needs_background": "light",
      "tags": []
     },
     "output_type": "display_data"
    }
   ],
   "source": [
    "plt.hist(y_over);"
   ]
  },
  {
   "cell_type": "markdown",
   "metadata": {
    "id": "UkwXn2HuWEhJ"
   },
   "source": [
    "After over sampling the died now is equal to the number of  survived "
   ]
  },
  {
   "cell_type": "code",
   "execution_count": null,
   "metadata": {
    "id": "_eUNrS7_pgP_"
   },
   "outputs": [],
   "source": [
    "for pipe in piplines:\n",
    "  pipe.fit(X_train_over,y_train_over)"
   ]
  },
  {
   "cell_type": "code",
   "execution_count": null,
   "metadata": {
    "id": "vMixIW7BpgP_"
   },
   "outputs": [],
   "source": [
    "y_pred = []\n",
    "for i,model in enumerate(piplines):\n",
    "    y_pred.append(model.predict(X_test_over))\n",
    "\n"
   ]
  },
  {
   "cell_type": "code",
   "execution_count": null,
   "metadata": {
    "colab": {
     "base_uri": "https://localhost:8080/",
     "height": 369
    },
    "id": "OXrK7fBTqyBz",
    "outputId": "21b62a6c-a23b-44d8-884c-27f9d24cba11"
   },
   "outputs": [
    {
     "name": "stdout",
     "output_type": "stream",
     "text": [
      "------------Model 1--------------\n",
      "Accuracy: 0.780\n",
      "Recall: 0.762\n",
      "Precision: 0.800\n",
      "F-Score: 0.780\n",
      " \n"
     ]
    },
    {
     "data": {
      "image/png": "[encoded data removed]",
      "text/plain": [
       "<Figure size 432x288 with 2 Axes>"
      ]
     },
     "metadata": {
      "needs_background": "light",
      "tags": []
     },
     "output_type": "display_data"
    }
   ],
   "source": [
    "print('------------Model 1--------------')\n",
    "print_report(y_test_over,y_pred[0])\n",
    "plot_confusion_matrix(y_test_over,y_pred[0],{0:'died',1:'survives'});\n"
   ]
  },
  {
   "cell_type": "code",
   "execution_count": null,
   "metadata": {
    "colab": {
     "base_uri": "https://localhost:8080/",
     "height": 278
    },
    "id": "gOjpKUlZH5gW",
    "outputId": "62866f43-e96e-4466-87db-55b36629f21f"
   },
   "outputs": [
    {
     "data": {
      "image/png": "[encoded data removed]",
      "text/plain": [
       "<Figure size 432x288 with 1 Axes>"
      ]
     },
     "metadata": {
      "needs_background": "light",
      "tags": []
     },
     "output_type": "display_data"
    }
   ],
   "source": [
    "plot_roc_curve(piplines[0],X_test_over,y_test_over);"
   ]
  },
  {
   "cell_type": "markdown",
   "metadata": {
    "id": "uTzzXY-3WjA1"
   },
   "source": [
    "As, we see here there are 4 false negative values and 5 false postives. As, we see the model predforms better and could predicts died people as well as survived."
   ]
  },
  {
   "cell_type": "code",
   "execution_count": null,
   "metadata": {
    "colab": {
     "base_uri": "https://localhost:8080/",
     "height": 366
    },
    "id": "IZsimgYbplM7",
    "outputId": "513ae85f-281c-46af-8a7a-b5a58ef49c8a"
   },
   "outputs": [
    {
     "name": "stdout",
     "output_type": "stream",
     "text": [
      "------------Model 2--------------\n",
      "Accuracy: 0.878\n",
      "Recall: 0.895\n",
      "Precision: 0.850\n",
      "F-Score: 0.872\n",
      " \n"
     ]
    },
    {
     "data": {
      "image/png": "[encoded data removed]",
      "text/plain": [
       "<Figure size 432x288 with 2 Axes>"
      ]
     },
     "metadata": {
      "needs_background": "light",
      "tags": []
     },
     "output_type": "display_data"
    }
   ],
   "source": [
    "print('------------Model 2--------------')\n",
    "print_report(y_test_over,y_pred[1])\n",
    "plot_confusion_matrix(y_test_over,y_pred[1],{0:'died',1:'survives'});"
   ]
  },
  {
   "cell_type": "code",
   "execution_count": null,
   "metadata": {
    "colab": {
     "base_uri": "https://localhost:8080/",
     "height": 278
    },
    "id": "tbA38Uc7IQ67",
    "outputId": "c5b5edae-a988-4c46-eb26-fed73f0dffd4"
   },
   "outputs": [
    {
     "data": {
      "image/png": "[encoded data removed]",
      "text/plain": [
       "<Figure size 432x288 with 1 Axes>"
      ]
     },
     "metadata": {
      "needs_background": "light",
      "tags": []
     },
     "output_type": "display_data"
    }
   ],
   "source": [
    "plot_roc_curve(piplines[1],X_test_over,y_test_over);"
   ]
  },
  {
   "cell_type": "markdown",
   "metadata": {
    "id": "EZrWfwaBWxBh"
   },
   "source": [
    "As, we see here there are e false negative values and 2 false postives. As, we see the model predforms better and rather it could predicts died people more accurate than survived."
   ]
  },
  {
   "cell_type": "markdown",
   "metadata": {
    "id": "MnF_hGSM_4vl"
   },
   "source": [
    "### Under Sampling"
   ]
  },
  {
   "cell_type": "code",
   "execution_count": null,
   "metadata": {
    "colab": {
     "base_uri": "https://localhost:8080/"
    },
    "id": "W94rQ6uAACbb",
    "outputId": "a3b2c5f3-9a36-4989-a7d1-293c1d00ec0f"
   },
   "outputs": [
    {
     "name": "stderr",
     "output_type": "stream",
     "text": [
      "/usr/local/lib/python3.6/dist-packages/sklearn/utils/deprecation.py:87: FutureWarning:\n",
      "\n",
      "Function safe_indexing is deprecated; safe_indexing is deprecated in version 0.22 and will be removed in version 0.24.\n",
      "\n"
     ]
    }
   ],
   "source": [
    "from  imblearn.under_sampling import RandomUnderSampler\n",
    "undersample = RandomUnderSampler()\n",
    "X_under, y_under = undersample.fit_resample(X, hcc_df.iloc[:,-1])\n",
    "X_train_under,X_test_under,y_train_under,y_test_under =train_test_split(X_under,y_under,test_size=0.2,random_state=0)"
   ]
  },
  {
   "cell_type": "code",
   "execution_count": null,
   "metadata": {
    "colab": {
     "base_uri": "https://localhost:8080/",
     "height": 265
    },
    "id": "qUgG9WhdB9pz",
    "outputId": "782876ef-d16a-4724-d1cc-87077535e9a0"
   },
   "outputs": [
    {
     "data": {
      "image/png": "[encoded data removed]",
      "text/plain": [
       "<Figure size 432x288 with 1 Axes>"
      ]
     },
     "metadata": {
      "needs_background": "light",
      "tags": []
     },
     "output_type": "display_data"
    }
   ],
   "source": [
    "plt.hist(x= y_under);"
   ]
  },
  {
   "cell_type": "markdown",
   "metadata": {
    "id": "wXLJE46yXCd2"
   },
   "source": [
    "As, we see here the number of survived are under sampled to be the same number of died people. "
   ]
  },
  {
   "cell_type": "code",
   "execution_count": null,
   "metadata": {
    "id": "OO7fi4u7B9p0"
   },
   "outputs": [],
   "source": [
    "for pipe in piplines:\n",
    "  pipe.fit(X_train_under,y_train_under)"
   ]
  },
  {
   "cell_type": "code",
   "execution_count": null,
   "metadata": {
    "id": "0Sl53QfwB9p0"
   },
   "outputs": [],
   "source": [
    "y_pred = []\n",
    "for i,model in enumerate(piplines):\n",
    "    y_pred.append(model.predict(X_test_under))\n",
    "\n"
   ]
  },
  {
   "cell_type": "code",
   "execution_count": null,
   "metadata": {
    "colab": {
     "base_uri": "https://localhost:8080/",
     "height": 369
    },
    "id": "AfFzDYRdB9p0",
    "outputId": "337cf702-7fd8-406b-9d8b-4e633c114cff"
   },
   "outputs": [
    {
     "name": "stdout",
     "output_type": "stream",
     "text": [
      "------------Model 1--------------\n",
      "Accuracy: 0.692\n",
      "Recall: 0.667\n",
      "Precision: 0.545\n",
      "F-Score: 0.600\n",
      " \n"
     ]
    },
    {
     "data": {
      "image/png": "[encoded data removed]",
      "text/plain": [
       "<Figure size 432x288 with 2 Axes>"
      ]
     },
     "metadata": {
      "needs_background": "light",
      "tags": []
     },
     "output_type": "display_data"
    }
   ],
   "source": [
    "print('------------Model 1--------------')\n",
    "print_report(y_test_under,y_pred[0])\n",
    "plot_confusion_matrix(y_test_under,y_pred[0],{0:'died',1:'survives'});\n"
   ]
  },
  {
   "cell_type": "code",
   "execution_count": null,
   "metadata": {
    "colab": {
     "base_uri": "https://localhost:8080/",
     "height": 278
    },
    "id": "Vqz6fr19Icmx",
    "outputId": "cefa059a-3264-4de4-a2f8-64b502736bc0"
   },
   "outputs": [
    {
     "data": {
      "image/png": "[encoded data removed]",
      "text/plain": [
       "<Figure size 432x288 with 1 Axes>"
      ]
     },
     "metadata": {
      "needs_background": "light",
      "tags": []
     },
     "output_type": "display_data"
    }
   ],
   "source": [
    "plot_roc_curve(piplines[0],X_test_under,y_test_under);"
   ]
  },
  {
   "cell_type": "markdown",
   "metadata": {
    "id": "14y-kXdGXK2L"
   },
   "source": [
    "As, we see here there are 5 false negative values and 3 false postives. And, the model could predicts the died people more often than survived "
   ]
  },
  {
   "cell_type": "code",
   "execution_count": null,
   "metadata": {
    "colab": {
     "base_uri": "https://localhost:8080/",
     "height": 369
    },
    "id": "2_Pv1xuGB9p0",
    "outputId": "48fc2cf0-f3b0-4fea-9d7a-009a5d31e142"
   },
   "outputs": [
    {
     "name": "stdout",
     "output_type": "stream",
     "text": [
      "------------Model 2--------------\n",
      "Accuracy: 0.577\n",
      "Recall: 0.500\n",
      "Precision: 0.636\n",
      "F-Score: 0.560\n",
      " \n"
     ]
    },
    {
     "data": {
      "image/png": "[encoded data removed]",
      "text/plain": [
       "<Figure size 432x288 with 2 Axes>"
      ]
     },
     "metadata": {
      "needs_background": "light",
      "tags": []
     },
     "output_type": "display_data"
    }
   ],
   "source": [
    "print('------------Model 2--------------')\n",
    "print_report(y_test_under,y_pred[1])\n",
    "plot_confusion_matrix(y_test_under,y_pred[1],{0:'died',1:'survives'});"
   ]
  },
  {
   "cell_type": "code",
   "execution_count": null,
   "metadata": {
    "colab": {
     "base_uri": "https://localhost:8080/",
     "height": 278
    },
    "id": "LwRH8r2EJLsn",
    "outputId": "2fe9c3d3-9a91-4c5b-8d66-bd92de4dafa9"
   },
   "outputs": [
    {
     "data": {
      "image/png": "[encoded data removed]",
      "text/plain": [
       "<Figure size 432x288 with 1 Axes>"
      ]
     },
     "metadata": {
      "needs_background": "light",
      "tags": []
     },
     "output_type": "display_data"
    }
   ],
   "source": [
    "plot_roc_curve(piplines[1],X_test_under,y_test_under);"
   ]
  },
  {
   "cell_type": "markdown",
   "metadata": {
    "id": "d9w1kcZsXnKN"
   },
   "source": [
    "As, we see here there are 4 false negative values and 7 false postives. And, the model could predicts the died people more often than survived. So, as we see here the under sample affects the survived data."
   ]
  },
  {
   "cell_type": "markdown",
   "metadata": {
    "id": "RDLKAAMHplNC"
   },
   "source": [
    "### Using Ensemble"
   ]
  },
  {
   "cell_type": "code",
   "execution_count": null,
   "metadata": {
    "id": "9_1e3TLtTloN"
   },
   "outputs": [],
   "source": [
    "svm = SVC()\n",
    "rf = RandomForestClassifier()\n",
    "vt = VotingClassifier(estimators=[('svm',svm),('rf',rf)],n_jobs=-1)"
   ]
  },
  {
   "cell_type": "code",
   "execution_count": null,
   "metadata": {
    "colab": {
     "base_uri": "https://localhost:8080/"
    },
    "id": "QFGIyEQgZTL0",
    "outputId": "e2f32e5c-db07-42d5-fb72-536fc261e4ee"
   },
   "outputs": [
    {
     "data": {
      "text/plain": [
       "VotingClassifier(estimators=[('svm',\n",
       "                              SVC(C=1.0, break_ties=False, cache_size=200,\n",
       "                                  class_weight=None, coef0=0.0,\n",
       "                                  decision_function_shape='ovr', degree=3,\n",
       "                                  gamma='scale', kernel='rbf', max_iter=-1,\n",
       "                                  probability=False, random_state=None,\n",
       "                                  shrinking=True, tol=0.001, verbose=False)),\n",
       "                             ('rf',\n",
       "                              RandomForestClassifier(bootstrap=True,\n",
       "                                                     ccp_alpha=0.0,\n",
       "                                                     class_weight=None,\n",
       "                                                     criterion='gini',\n",
       "                                                     max_depth=None,\n",
       "                                                     max_features='auto',\n",
       "                                                     max_leaf_nodes=None,\n",
       "                                                     max_samples=None,\n",
       "                                                     min_impurity_decrease=0.0,\n",
       "                                                     min_impurity_split=None,\n",
       "                                                     min_samples_leaf=1,\n",
       "                                                     min_samples_split=2,\n",
       "                                                     min_weight_fraction_leaf=0.0,\n",
       "                                                     n_estimators=100,\n",
       "                                                     n_jobs=None,\n",
       "                                                     oob_score=False,\n",
       "                                                     random_state=None,\n",
       "                                                     verbose=0,\n",
       "                                                     warm_start=False))],\n",
       "                 flatten_transform=True, n_jobs=-1, voting='hard',\n",
       "                 weights=None)"
      ]
     },
     "execution_count": 308,
     "metadata": {
      "tags": []
     },
     "output_type": "execute_result"
    }
   ],
   "source": [
    "vt.fit(X_train,y_train)"
   ]
  },
  {
   "cell_type": "code",
   "execution_count": null,
   "metadata": {
    "colab": {
     "base_uri": "https://localhost:8080/",
     "height": 366
    },
    "id": "Bb2_kYHpZhxN",
    "outputId": "d0b6d3df-1c8e-42c0-f927-1aaff24f6724"
   },
   "outputs": [
    {
     "name": "stdout",
     "output_type": "stream",
     "text": [
      "------------Model 1--------------\n",
      "Accuracy: 0.927\n",
      "Recall: 0.905\n",
      "Precision: 0.950\n",
      "F-Score: 0.927\n",
      " \n"
     ]
    },
    {
     "data": {
      "image/png": "[encoded data removed]",
      "text/plain": [
       "<Figure size 432x288 with 2 Axes>"
      ]
     },
     "metadata": {
      "needs_background": "light",
      "tags": []
     },
     "output_type": "display_data"
    }
   ],
   "source": [
    "y_pred = vt.predict(X_test_over)\n",
    "print('------------Model 1--------------')\n",
    "print_report(y_test_over,y_pred)\n",
    "plot_confusion_matrix(y_test_over,y_pred,{0:'died',1:'survives'});"
   ]
  },
  {
   "cell_type": "markdown",
   "metadata": {
    "id": "jzSES0hyYK7I"
   },
   "source": [
    "As, we see here there are 1 false negative values and 2 false postives. And, the model could predicts the died people same as  survived. So, as we see here the voting model is the best model that solves the imbalance data in our case"
   ]
  }
 ],
 "metadata": {
  "colab": {
   "collapsed_sections": [
    "u-bAgbOPT5bZ",
    "_jCiac6sEYMl",
    "VknUx_rgEcM8",
    "io8jmcDUclAJ"
   ],
   "name": "HCC Classification.ipynb",
   "provenance": []
  },
  "kernelspec": {
   "display_name": "Python 3",
   "language": "python",
   "name": "python3"
  },
  "language_info": {
   "codemirror_mode": {
    "name": "ipython",
    "version": 3
   },
   "file_extension": ".py",
   "mimetype": "text/x-python",
   "name": "python",
   "nbconvert_exporter": "python",
   "pygments_lexer": "ipython3",
   "version": "3.7.4"
  }
 },
 "nbformat": 4,
 "nbformat_minor": 1
}
